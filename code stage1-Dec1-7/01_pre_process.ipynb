{
 "cells": [
  {
   "cell_type": "code",
   "execution_count": 1,
   "metadata": {},
   "outputs": [
    {
     "data": {
      "text/plain": [
       "5876337"
      ]
     },
     "execution_count": 1,
     "metadata": {},
     "output_type": "execute_result"
    }
   ],
   "source": [
    "import urllib.request\n",
    "# Fetch the data\n",
    "target_url =  'https://www.gutenberg.org/cache/epub/1581/pg1581.txt'\n",
    "data = urllib.request.urlopen(target_url)\n",
    "raw_data = data.read().decode('utf8').strip()\n",
    "n=len(raw_data)\n",
    "n"
   ]
  },
  {
   "cell_type": "code",
   "execution_count": 3,
   "metadata": {},
   "outputs": [
    {
     "data": {
      "text/plain": [
       "1336"
      ]
     },
     "execution_count": 3,
     "metadata": {},
     "output_type": "execute_result"
    }
   ],
   "source": [
    "import re\n",
    "chapters = re.sub('[\\r\\n\\r\\n]', ' ', raw_data).split('Chapter')[1:]\n",
    "chapters[-1] = chapters[-1].split('APPENDICES')[0]\n",
    "n=len(chapters)\n",
    "n #In total there are 1336 chapters are there in Bible \n"
   ]
  },
  {
   "cell_type": "code",
   "execution_count": 4,
   "metadata": {},
   "outputs": [
    {
     "data": {
      "text/plain": [
       "' 4    The history of Cain and Abel.    4:1. And Adam knew Eve his wife; who conceived and brought forth Cain,  saying: I have gotten a man through God.    4:2. And again she brought forth his brother Abel. And Abel was a  shepherd, and Cain a husbandman.    4:3. And it came to pass after many days, that Cain offered, of the  fruits of the earth, gifts to the Lord.    4:4. Abel also offered of the firstlings of his flock, and of their  fat: and the Lord had respect to Abel, and to his offerings.    Had respect.... That is, shewed his acceptance of his sacrifice (as  coming from a heart full of devotion): and that, as we may suppose, by  some visible token, such as sending fire from heaven upon his  offerings.    4:5. But to Cain and his offerings he had no respect: and Cain was  exceeding angry, and his countenance fell.    4:6. And the Lord said to him: Why art thou angry? and why is thy  countenance fallen?    4:7. If thou do well, shalt thou not receive? but if ill, shall not sin  forthwith be present at the door? but the lust thereof shall be under  thee, and thou shalt have dominion over it.    4:8. And Cain said to Abel his brother: Let us go forth abroad. And  when they were in the field, Cain rose up against his brother Abel, and  slew him.    4:9. And the Lord said to Cain: Where is thy brother Abel? And he  answered: I know not: am I my brother’s keeper?    4:10. And he said to him: What hast thou done? the voice of thy  brother’s blood crieth to me from the earth.    4:11. Now, therefore, cursed shalt thou be upon the earth, which hath  opened her mouth and received the blood of thy brother at thy hand.    4:12. When thou shalt till it, it shall not yield to thee its fruit: a  fugitive and a vagabond shalt thou be upon the earth.    4:13. And Cain said to the Lord: My iniquity is greater than that I may  deserve pardon.    4:14. Behold thou dost cast me out this day from the face of the earth,  and from thy face I shall be hid, and I shall be a vagabond and a  fugitive on the earth: every one, therefore, that findeth me, shall kill  me.    Every one that findeth me shall kill me.... His guilty conscience made  him fear his own brothers and nephews; of whom, by this time, there  might be a good number upon the earth; which had now endured near 130  years; as may be gathered from Gen. 5.3, compared with chap. 4.25,  though in the compendious account given in the scriptures, only Cain  and Abel are mentioned.    4:15. And the Lord said to him: No, it shall not so be: but whosoever  shall kill Cain, shall be punished sevenfold. And the Lord set a mark  upon Cain, that whosoever found him should not kill him.    Set a mark, etc.... The more common opinion of the interpreters of holy  writ supposes this mark to have been a trembling of the body; or a  horror and consternation in his countenance.    4:16. And Cain went out from the face of the Lord, and dwelt as a  fugitive on the earth at the east side of Eden.    4:17. And Cain knew his wife, and she conceived, and brought forth  Henoch: and he built a city, and called the name thereof by the name of  his son Henoch.    His wife.... She was a daughter of Adam, and Cain’s own sister; God  dispensing with such marriages in the beginning of the world, as  mankind could not otherwise be propagated. He built a city, viz.... In  process of time, when his race was multiplied, so as to be numerous  enough to people it. For in the many hundred years he lived, his race  might be multiplied even to millions.    4:18. And Henoch begot Irad, and Irad begot Maviael, and Maviael begot  Mathusael, and Mathusael begot Lamech,    4:19. Who took two wives: the name of the one was Ada, and the name of  the other Sella.    4:20. And Ada brought forth Jabel: who was the father of such as dwell  in tents, and of herdsmen.    4:21. And his brother’s name was Jubal: he was the father of them that  play upon the harp and the organs.    4:22. Sella also brought forth Tubalcain, who was a hammerer and  artificer in every work of brass and iron. And the sister of Tubalcain  was Noema.    4:23. And Lamech said to his wives Ada and Sella: Hear my voice, ye  wives of Lamech, hearken to my speech: for I have slain a man to the  wounding of myself, and a stripling to my own bruising.    I have slain a man, etc.... It is the tradition of the Hebrews, that  Lamech in hunting slew Cain, mistaking him for a wild beast; and that  having discovered what he had done, he beat so unmercifully the youth,  by whom he was led into that mistake, that he died of the blows.    4:24. Sevenfold vengeance shall be taken for Cain: but for Lamech  seventy times sevenfold.    4:25. Adam also knew his wife again: and she brought forth a son, and  called his name Seth, saying: God hath given me another seed for Abel,  whom Cain slew.    4:26. But to Seth also was born a son, whom he called Enos: this man  began to call upon the name of the Lord.    Began to call upon, etc.... Not that Adam and Seth had not called upon  God, before the birth of Enos; but that Enos used more solemnity in the  worship and invocation of God.      Genesis '"
      ]
     },
     "execution_count": 4,
     "metadata": {},
     "output_type": "execute_result"
    }
   ],
   "source": [
    "chapters[3] # chapter 4 of Genesis"
   ]
  }
 ],
 "metadata": {
  "kernelspec": {
   "display_name": "Python 3",
   "language": "python",
   "name": "python3"
  },
  "language_info": {
   "codemirror_mode": {
    "name": "ipython",
    "version": 3
   },
   "file_extension": ".py",
   "mimetype": "text/x-python",
   "name": "python",
   "nbconvert_exporter": "python",
   "pygments_lexer": "ipython3",
   "version": "3.12.0"
  }
 },
 "nbformat": 4,
 "nbformat_minor": 2
}
